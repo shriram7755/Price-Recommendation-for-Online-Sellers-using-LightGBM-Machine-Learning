{
 "cells": [
  {
   "cell_type": "markdown",
   "id": "d7eb4942",
   "metadata": {},
   "source": [
    "# MOHD TALIB\n",
    "# CODE CLAUSE GOLDEN PROJECT-1 \n",
    "# DATA SCIENCE INTERN\n",
    "# Price Recommendation for Online Sellers"
   ]
  },
  {
   "cell_type": "code",
   "execution_count": 1,
   "id": "3a4b64ec",
   "metadata": {},
   "outputs": [],
   "source": [
    "import gc\n",
    "import time\n",
    "import numpy as np\n",
    "import pandas as pd\n",
    "import matplotlib.pyplot as plt\n",
    "import seaborn as sns\n",
    "from scipy.sparse import csr_matrix, hstack\n",
    "from sklearn.feature_extraction.text import CountVectorizer, TfidfVectorizer\n",
    "from sklearn.preprocessing import LabelBinarizer\n",
    "from sklearn.model_selection import train_test_split, cross_val_score\n",
    "from sklearn.metrics import mean_squared_error\n",
    "import lightgbm as lgb\n",
    "df = pd.read_csv(\"C:/Users/hp/Downloads/archive (2)/train.tsv\", sep = '\\t')"
   ]
  },
  {
   "cell_type": "code",
   "execution_count": 2,
   "id": "b99b8ca4",
   "metadata": {},
   "outputs": [
    {
     "data": {
      "text/plain": [
       "((1185285, 8), (297250, 8))"
      ]
     },
     "execution_count": 2,
     "metadata": {},
     "output_type": "execute_result"
    }
   ],
   "source": [
    "msk = np.random.rand(len(df)) < 0.8\n",
    "train = df[msk]\n",
    "test = df[~msk]\n",
    "train.shape, test.shape"
   ]
  },
  {
   "cell_type": "code",
   "execution_count": 3,
   "id": "cfdb72b4",
   "metadata": {},
   "outputs": [
    {
     "data": {
      "text/plain": [
       "Text(0.5, 1.0, 'Price Distribution')"
      ]
     },
     "execution_count": 3,
     "metadata": {},
     "output_type": "execute_result"
    },
    {
     "data": {
      "image/png": "[encoded data removed]",
      "text/plain": [
       "<Figure size 864x432 with 2 Axes>"
      ]
     },
     "metadata": {
      "needs_background": "light"
     },
     "output_type": "display_data"
    }
   ],
   "source": [
    "plt.subplot(1, 2, 1)\n",
    "(train['price']).plot.hist(bins=50, figsize=(12, 6), edgecolor = 'white', range = [0, 250])\n",
    "plt.xlabel('price', fontsize=12)\n",
    "plt.title('Price Distribution', fontsize=12)\n",
    "plt.subplot(1, 2, 2)\n",
    "np.log(train['price']+1).plot.hist(bins=50, figsize=(12,6), edgecolor='white')\n",
    "plt.xlabel('log(price+1)', fontsize=12)\n",
    "plt.title('Price Distribution', fontsize=12)"
   ]
  },
  {
   "cell_type": "code",
   "execution_count": 4,
   "id": "0cc9dff9",
   "metadata": {},
   "outputs": [
    {
     "data": {
      "text/plain": [
       "0    0.55273\n",
       "1    0.44727\n",
       "Name: shipping, dtype: float64"
      ]
     },
     "execution_count": 4,
     "metadata": {},
     "output_type": "execute_result"
    }
   ],
   "source": [
    "#Over 55% of items shipping fee were paid by the buyers.\n",
    "train['shipping'].value_counts() / len(train)"
   ]
  },
  {
   "cell_type": "code",
   "execution_count": 5,
   "id": "8a48a887",
   "metadata": {},
   "outputs": [
    {
     "name": "stdout",
     "output_type": "stream",
     "text": [
      "The average price is 22.58 if seller pays shipping\n",
      "The average price is 30.15 if buyer pays shipping\n"
     ]
    }
   ],
   "source": [
    "shipping_fee_by_buyer = train.loc[df['shipping'] == 0, 'price']\n",
    "shipping_fee_by_seller = train.loc[df['shipping'] == 1, 'price']\n",
    "print('The average price is {}'.format(round(shipping_fee_by_seller.mean(), 2)), 'if seller pays shipping');\n",
    "print('The average price is {}'.format(round(shipping_fee_by_buyer.mean(), 2)), 'if buyer pays shipping')"
   ]
  },
  {
   "cell_type": "code",
   "execution_count": 6,
   "id": "ca71665d",
   "metadata": {},
   "outputs": [
    {
     "name": "stdout",
     "output_type": "stream",
     "text": [
      "There are 1268 unique values in category name column\n"
     ]
    }
   ],
   "source": [
    "print('There are', train['category_name'].nunique(), 'unique values in category name column')"
   ]
  },
  {
   "cell_type": "code",
   "execution_count": 7,
   "id": "be3b0069",
   "metadata": {},
   "outputs": [
    {
     "data": {
      "text/plain": [
       "<AxesSubplot:xlabel='item_condition_id', ylabel='price'>"
      ]
     },
     "execution_count": 7,
     "metadata": {},
     "output_type": "execute_result"
    },
    {
     "data": {
      "image/png": "[encoded data removed]",
      "text/plain": [
       "<Figure size 432x288 with 1 Axes>"
      ]
     },
     "metadata": {
      "needs_background": "light"
     },
     "output_type": "display_data"
    }
   ],
   "source": [
    "sns.boxplot(x = 'item_condition_id', y = np.log(train['price']+1), data = train, palette = sns.color_palette('RdBu',5))"
   ]
  },
  {
   "cell_type": "markdown",
   "id": "c0734f4f",
   "metadata": {},
   "source": [
    "\n",
    "# LightGBM"
   ]
  },
  {
   "cell_type": "code",
   "execution_count": 8,
   "id": "78d2aa66",
   "metadata": {},
   "outputs": [],
   "source": [
    "NUM_BRANDS = 4000\n",
    "NUM_CATEGORIES = 1000\n",
    "NAME_MIN_DF = 10\n",
    "MAX_FEATURES_ITEM_DESCRIPTION = 50000"
   ]
  },
  {
   "cell_type": "markdown",
   "id": "bc860b90",
   "metadata": {},
   "source": [
    "### There are missing values in the columns that we have to fix: "
   ]
  },
  {
   "cell_type": "code",
   "execution_count": 9,
   "id": "ef53613f",
   "metadata": {},
   "outputs": [
    {
     "name": "stdout",
     "output_type": "stream",
     "text": [
      "There are 5050 items that do not have a category name.\n"
     ]
    }
   ],
   "source": [
    "print('There are %d items that do not have a category name.' %train['category_name'].isnull().sum())"
   ]
  },
  {
   "cell_type": "code",
   "execution_count": 10,
   "id": "a4629b38",
   "metadata": {},
   "outputs": [
    {
     "name": "stdout",
     "output_type": "stream",
     "text": [
      "There are 505657 items that do not have a brand name.\n"
     ]
    }
   ],
   "source": [
    "print('There are %d items that do not have a brand name.' %train['brand_name'].isnull().sum())"
   ]
  },
  {
   "cell_type": "code",
   "execution_count": 11,
   "id": "d1b21525",
   "metadata": {},
   "outputs": [
    {
     "name": "stdout",
     "output_type": "stream",
     "text": [
      "There are 3 items that do not have a description.\n"
     ]
    }
   ],
   "source": [
    "print('There are %d items that do not have a description.' %train['item_description'].isnull().sum())"
   ]
  },
  {
   "cell_type": "markdown",
   "id": "e1120eaf",
   "metadata": {},
   "source": [
    "### Helper function for LightGBM:"
   ]
  },
  {
   "cell_type": "code",
   "execution_count": 12,
   "id": "8d43b48f",
   "metadata": {},
   "outputs": [],
   "source": [
    "def handle_missing_inplace(dataset): \n",
    "    dataset['category_name'].fillna(value='missing', inplace=True) \n",
    "    dataset['brand_name'].fillna(value='missing', inplace=True) \n",
    "    dataset['item_description'].replace('No description yet,''missing', inplace=True) \n",
    "    dataset['item_description'].fillna(value='missing', inplace=True)\n",
    "def cutting(dataset):\n",
    "    pop_brand = dataset['brand_name'].value_counts().loc[lambda x: x.index != 'missing'].index[:NUM_BRANDS]\n",
    "    dataset.loc[~dataset['brand_name'].isin(pop_brand), 'brand_name'] = 'missing'\n",
    "    pop_category = dataset['category_name'].value_counts().loc[lambda x: x.index != 'missing'].index[:NUM_CATEGORIES]\n",
    "def to_categorical(dataset):\n",
    "    dataset['category_name'] = dataset['category_name'].astype('category')\n",
    "    dataset['brand_name'] = dataset['brand_name'].astype('category')\n",
    "    dataset['item_condition_id'] = dataset['item_condition_id'].astype('category')"
   ]
  },
  {
   "cell_type": "code",
   "execution_count": 13,
   "id": "554544b6",
   "metadata": {},
   "outputs": [],
   "source": [
    "#Drop rows where price = 0"
   ]
  },
  {
   "cell_type": "code",
   "execution_count": 14,
   "id": "364039a8",
   "metadata": {},
   "outputs": [],
   "source": [
    "df = pd.read_csv('C:/Users/hp/Downloads/archive (2)/train.tsv', sep = '\\t')\n",
    "msk = np.random.rand(len(df)) < 0.8\n",
    "train = df[msk]\n",
    "test = df[~msk]\n",
    "test_new = test.drop('price', axis=1)\n",
    "y_test = np.log1p(test[\"price\"])\n",
    "train = train[train.price != 0].reset_index(drop=True)"
   ]
  },
  {
   "cell_type": "code",
   "execution_count": 15,
   "id": "85e2e25a",
   "metadata": {},
   "outputs": [],
   "source": [
    "#Merging train and test data\n",
    "nrow_train = train.shape[0]\n",
    "y = np.log1p(train[\"price\"])\n",
    "merge: pd.DataFrame = pd.concat([train, test_new])"
   ]
  },
  {
   "cell_type": "code",
   "execution_count": 16,
   "id": "fb44fc83",
   "metadata": {},
   "outputs": [],
   "source": [
    "handle_missing_inplace(merge)\n",
    "cutting(merge)\n",
    "to_categorical(merge)"
   ]
  },
  {
   "cell_type": "code",
   "execution_count": 17,
   "id": "e3701ec4",
   "metadata": {},
   "outputs": [],
   "source": [
    "#Count vectorize name and category name columns.\n",
    "cv = CountVectorizer(min_df=NAME_MIN_DF)\n",
    "X_name = cv.fit_transform(merge['name'])\n",
    "cv = CountVectorizer()\n",
    "X_category = cv.fit_transform(merge['category_name'])"
   ]
  },
  {
   "cell_type": "code",
   "execution_count": 18,
   "id": "aee72a64",
   "metadata": {},
   "outputs": [],
   "source": [
    "#TF-IDF Vectorize item_description column.\n",
    "tv = TfidfVectorizer(max_features=MAX_FEATURES_ITEM_DESCRIPTION, ngram_range=(1, 3), stop_words='english')\n",
    "X_description = tv.fit_transform(merge['item_description'])"
   ]
  },
  {
   "cell_type": "code",
   "execution_count": 19,
   "id": "214abb1e",
   "metadata": {},
   "outputs": [],
   "source": [
    "#Label binarize brand_name column.\n",
    "lb = LabelBinarizer(sparse_output=True)\n",
    "X_brand = lb.fit_transform(merge['brand_name'])"
   ]
  },
  {
   "cell_type": "code",
   "execution_count": 20,
   "id": "a9bc55af",
   "metadata": {},
   "outputs": [],
   "source": [
    "#Create dummy variables for item_condition_id and shipping columns.\n",
    "X_dummies = csr_matrix(pd.get_dummies(merge[['item_condition_id', 'shipping']], sparse=True).values)"
   ]
  },
  {
   "cell_type": "code",
   "execution_count": 21,
   "id": "1b313885",
   "metadata": {},
   "outputs": [],
   "source": [
    "#Create sparse merge.\n",
    "sparse_merge = hstack((X_dummies, X_description, X_brand, X_category, X_name)).tocsr()"
   ]
  },
  {
   "cell_type": "code",
   "execution_count": 22,
   "id": "743af4f4",
   "metadata": {},
   "outputs": [],
   "source": [
    "#Remove features with document frequency <=1.\n",
    "mask = np.array(np.clip(sparse_merge.getnnz(axis=0) - 1, 0, 1), dtype=bool)\n",
    "sparse_merge = sparse_merge[:, mask]"
   ]
  },
  {
   "cell_type": "code",
   "execution_count": 23,
   "id": "9c359a86",
   "metadata": {},
   "outputs": [],
   "source": [
    "#Separate train and test data from sparse merge.\n",
    "X = sparse_merge[:nrow_train]\n",
    "X_test = sparse_merge[nrow_train:]"
   ]
  },
  {
   "cell_type": "code",
   "execution_count": 24,
   "id": "896b2f03",
   "metadata": {},
   "outputs": [],
   "source": [
    "train_X = lgb.Dataset(X, label=y)"
   ]
  },
  {
   "cell_type": "code",
   "execution_count": 25,
   "id": "39d4aa0c",
   "metadata": {},
   "outputs": [],
   "source": [
    "params = {\n",
    "        'learning_rate': 0.75,\n",
    "        'application': 'regression',\n",
    "        'max_depth': 3,\n",
    "        'num_leaves': 100,\n",
    "        'verbosity': -1,\n",
    "        'metric': 'RMSE',\n",
    "    }"
   ]
  },
  {
   "cell_type": "code",
   "execution_count": 26,
   "id": "2f9f966d",
   "metadata": {},
   "outputs": [],
   "source": [
    "#Use ‘regression’ as application as we are dealing with a regression problem.\n",
    "#Use ‘RMSE’ as metric because this is a regression problem.\n",
    "#“num_leaves”=100 as our data is relative big.\n",
    "#Use “max_depth” to avoid overfitting.\n",
    "#Use “verbosity” to control the level of LightGBM’s verbosity (<0: Fatal).\n",
    "#“learning_rate” determines the impact of each tree on the final outcome."
   ]
  },
  {
   "cell_type": "code",
   "execution_count": 27,
   "id": "9db16132",
   "metadata": {},
   "outputs": [
    {
     "name": "stderr",
     "output_type": "stream",
     "text": [
      "C:\\Users\\hp\\anaconda3\\lib\\site-packages\\lightgbm\\engine.py:239: UserWarning: 'verbose_eval' argument is deprecated and will be removed in a future release of LightGBM. Pass 'log_evaluation()' callback via 'callbacks' argument instead.\n",
      "  _log_warning(\"'verbose_eval' argument is deprecated and will be removed in a future release of LightGBM. \"\n"
     ]
    }
   ],
   "source": [
    "#Training a model requires a parameter list and data set. And training will take a while.\n",
    "gbm = lgb.train(params, train_set=train_X, num_boost_round=3200, verbose_eval=100)"
   ]
  },
  {
   "cell_type": "code",
   "execution_count": 28,
   "id": "117a34f6",
   "metadata": {},
   "outputs": [],
   "source": [
    "#predict\n",
    "y_pred = gbm.predict(X_test, num_iteration=gbm.best_iteration)"
   ]
  },
  {
   "cell_type": "markdown",
   "id": "c9c5b810",
   "metadata": {},
   "source": [
    "# Evaluation"
   ]
  },
  {
   "cell_type": "code",
   "execution_count": 29,
   "id": "47491257",
   "metadata": {},
   "outputs": [
    {
     "name": "stdout",
     "output_type": "stream",
     "text": [
      "The rmse of prediction is: 0.45991276925107955\n"
     ]
    }
   ],
   "source": [
    "from sklearn.metrics import mean_squared_error\n",
    "print('The rmse of prediction is:', mean_squared_error(y_test, y_pred) ** 0.5)"
   ]
  },
  {
   "cell_type": "markdown",
   "id": "640b53a2",
   "metadata": {},
   "source": [
    "### The rmse of prediction is: 0.45991276925107955"
   ]
  },
  {
   "cell_type": "code",
   "execution_count": null,
   "id": "c092aea6",
   "metadata": {},
   "outputs": [],
   "source": []
  }
 ],
 "metadata": {
  "kernelspec": {
   "display_name": "Python 3 (ipykernel)",
   "language": "python",
   "name": "python3"
  },
  "language_info": {
   "codemirror_mode": {
    "name": "ipython",
    "version": 3
   },
   "file_extension": ".py",
   "mimetype": "text/x-python",
   "name": "python",
   "nbconvert_exporter": "python",
   "pygments_lexer": "ipython3",
   "version": "3.9.7"
  }
 },
 "nbformat": 4,
 "nbformat_minor": 5
}
